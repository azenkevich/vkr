{
 "cells": [
  {
   "cell_type": "code",
   "execution_count": 1,
   "id": "202a403c",
   "metadata": {},
   "outputs": [],
   "source": [
    "import flask\n",
    "from flask import render_template\n",
    "\n",
    "from flask import request\n",
    "\n",
    "import tensorflow as tf\n",
    "import pickle"
   ]
  },
  {
   "cell_type": "code",
   "execution_count": null,
   "id": "943387f9",
   "metadata": {},
   "outputs": [
    {
     "name": "stdout",
     "output_type": "stream",
     "text": [
      " * Serving Flask app \"__main__\" (lazy loading)\n",
      " * Environment: production\n",
      "\u001b[31m   WARNING: This is a development server. Do not use it in a production deployment.\u001b[0m\n",
      "\u001b[2m   Use a production WSGI server instead.\u001b[0m\n",
      " * Debug mode: off\n"
     ]
    },
    {
     "name": "stderr",
     "output_type": "stream",
     "text": [
      " * Running on http://127.0.0.1:5000/ (Press CTRL+C to quit)\n"
     ]
    }
   ],
   "source": [
    "app = flask.Flask(__name__, template_folder = 'templates')\n",
    "\n",
    "@app.route('/', methods = ['POST', 'GET'])\n",
    "\n",
    "@app.route('/index', methods = ['POST', 'GET'])\n",
    "def main():\n",
    "    if flask.request.method == 'GET':\n",
    "        return render_template('main.html')\n",
    "\n",
    "    if flask.request.method == 'POST':\n",
    "        param_list = ('Плотность, кг/м3', 'модуль упругости, ГПа', 'Количество отвердителя, м.%', \n",
    "                      'Содержание эпоксидных групп,%_2', 'Температура вспышки, С_2', 'Поверхностная плотность, г/м2\t', \n",
    "                      'Модуль упругости при растяжении, ГПа', 'Прочность при растяжении, МПа', 'Потребление смолы, г/м2',\n",
    "                      'Угол нашивки, град', 'Шаг нашивки', 'Плотность нашивки')\n",
    "        params_html = []\n",
    "        params = []\n",
    "        for i in param_list:\n",
    "            param = request.form.get(i)\n",
    "            params.append(param)\n",
    "            params_html.append(param)\n",
    "        params = [float(i.replace(',', '.')) for i in params]\n",
    "        \n",
    "        loaded_minmax = pickle.load(open('models/scaler_norm_X.sav', 'rb'))\n",
    "        result_input = loaded_minmax.transform([params])\n",
    "        \n",
    "        model_pred = tf.keras.models.load_model('models/model_saved')\n",
    "        result_pred = model_pred.predict(result_input)\n",
    "        \n",
    "        loaded_inv = pickle.load(open('models/scaler_norm_y.sav', 'rb'))\n",
    "        result_output = loaded_inv.inverse_transform(result_pred)\n",
    "                \n",
    "        message = f'Соотношение матрица-наполнитель: {str(round(result_output[0][0], 4))}'\n",
    "\n",
    "        return render_template('main.html', message = message, params = params_html)\n",
    "\n",
    "if __name__ == '__main__':\n",
    "    app.run()"
   ]
  }
 ],
 "metadata": {
  "kernelspec": {
   "display_name": "Python 3 (ipykernel)",
   "language": "python",
   "name": "python3"
  },
  "language_info": {
   "codemirror_mode": {
    "name": "ipython",
    "version": 3
   },
   "file_extension": ".py",
   "mimetype": "text/x-python",
   "name": "python",
   "nbconvert_exporter": "python",
   "pygments_lexer": "ipython3",
   "version": "3.9.13"
  }
 },
 "nbformat": 4,
 "nbformat_minor": 5
}
